{
 "cells": [
  {
   "cell_type": "code",
   "execution_count": 1,
   "metadata": {},
   "outputs": [],
   "source": [
    "import matplotlib.pyplot as plt\n",
    "import pandas as pd\n",
    "import numpy as np"
   ]
  },
  {
   "cell_type": "code",
   "execution_count": 2,
   "metadata": {},
   "outputs": [
    {
     "data": {
      "text/html": [
       "<div>\n",
       "<style scoped>\n",
       "    .dataframe tbody tr th:only-of-type {\n",
       "        vertical-align: middle;\n",
       "    }\n",
       "\n",
       "    .dataframe tbody tr th {\n",
       "        vertical-align: top;\n",
       "    }\n",
       "\n",
       "    .dataframe thead th {\n",
       "        text-align: right;\n",
       "    }\n",
       "</style>\n",
       "<table border=\"1\" class=\"dataframe\">\n",
       "  <thead>\n",
       "    <tr style=\"text-align: right;\">\n",
       "      <th></th>\n",
       "      <th>customer_zip_code_prefix</th>\n",
       "      <th>review_score</th>\n",
       "      <th>delivery_time_model</th>\n",
       "      <th>delivery_time</th>\n",
       "      <th>tempo_entrega_transportadora</th>\n",
       "      <th>tempo_entrega_cliente</th>\n",
       "    </tr>\n",
       "  </thead>\n",
       "  <tbody>\n",
       "    <tr>\n",
       "      <th>count</th>\n",
       "      <td>67391.000000</td>\n",
       "      <td>67391.000000</td>\n",
       "      <td>67391.000000</td>\n",
       "      <td>67391.000000</td>\n",
       "      <td>67391.000000</td>\n",
       "      <td>67391.000000</td>\n",
       "    </tr>\n",
       "    <tr>\n",
       "      <th>mean</th>\n",
       "      <td>34713.861020</td>\n",
       "      <td>4.021726</td>\n",
       "      <td>24.821345</td>\n",
       "      <td>13.723485</td>\n",
       "      <td>3.062873</td>\n",
       "      <td>9.762911</td>\n",
       "    </tr>\n",
       "    <tr>\n",
       "      <th>std</th>\n",
       "      <td>29347.471724</td>\n",
       "      <td>1.311298</td>\n",
       "      <td>7.737675</td>\n",
       "      <td>9.062543</td>\n",
       "      <td>3.498059</td>\n",
       "      <td>8.834111</td>\n",
       "    </tr>\n",
       "    <tr>\n",
       "      <th>min</th>\n",
       "      <td>1004.000000</td>\n",
       "      <td>1.000000</td>\n",
       "      <td>7.130000</td>\n",
       "      <td>0.530000</td>\n",
       "      <td>0.002731</td>\n",
       "      <td>0.000012</td>\n",
       "    </tr>\n",
       "    <tr>\n",
       "      <th>25%</th>\n",
       "      <td>11460.000000</td>\n",
       "      <td>3.997976</td>\n",
       "      <td>20.420000</td>\n",
       "      <td>8.310000</td>\n",
       "      <td>1.036782</td>\n",
       "      <td>4.200127</td>\n",
       "    </tr>\n",
       "    <tr>\n",
       "      <th>50%</th>\n",
       "      <td>24360.000000</td>\n",
       "      <td>5.000000</td>\n",
       "      <td>25.244095</td>\n",
       "      <td>13.774678</td>\n",
       "      <td>2.064178</td>\n",
       "      <td>7.410197</td>\n",
       "    </tr>\n",
       "    <tr>\n",
       "      <th>75%</th>\n",
       "      <td>57036.000000</td>\n",
       "      <td>5.000000</td>\n",
       "      <td>27.410000</td>\n",
       "      <td>14.870000</td>\n",
       "      <td>3.919086</td>\n",
       "      <td>12.895162</td>\n",
       "    </tr>\n",
       "    <tr>\n",
       "      <th>max</th>\n",
       "      <td>99980.000000</td>\n",
       "      <td>5.000000</td>\n",
       "      <td>155.140000</td>\n",
       "      <td>195.630000</td>\n",
       "      <td>107.053218</td>\n",
       "      <td>194.213009</td>\n",
       "    </tr>\n",
       "  </tbody>\n",
       "</table>\n",
       "</div>"
      ],
      "text/plain": [
       "       customer_zip_code_prefix  review_score  delivery_time_model  \\\n",
       "count              67391.000000  67391.000000         67391.000000   \n",
       "mean               34713.861020      4.021726            24.821345   \n",
       "std                29347.471724      1.311298             7.737675   \n",
       "min                 1004.000000      1.000000             7.130000   \n",
       "25%                11460.000000      3.997976            20.420000   \n",
       "50%                24360.000000      5.000000            25.244095   \n",
       "75%                57036.000000      5.000000            27.410000   \n",
       "max                99980.000000      5.000000           155.140000   \n",
       "\n",
       "       delivery_time  tempo_entrega_transportadora  tempo_entrega_cliente  \n",
       "count   67391.000000                  67391.000000           67391.000000  \n",
       "mean       13.723485                      3.062873               9.762911  \n",
       "std         9.062543                      3.498059               8.834111  \n",
       "min         0.530000                      0.002731               0.000012  \n",
       "25%         8.310000                      1.036782               4.200127  \n",
       "50%        13.774678                      2.064178               7.410197  \n",
       "75%        14.870000                      3.919086              12.895162  \n",
       "max       195.630000                    107.053218             194.213009  "
      ]
     },
     "execution_count": 2,
     "metadata": {},
     "output_type": "execute_result"
    }
   ],
   "source": [
    "df = pd.read_excel('./baseDeDados/dataBaseTratada.xlsx')\n",
    "\n",
    "df_corr = df[['customer_zip_code_prefix', 'review_score', 'delivery_time_model', 'delivery_time', 'tempo_entrega_transportadora', 'tempo_entrega_cliente']]\n",
    "df_corr = df_corr[df_corr['tempo_entrega_cliente']>0]\n",
    "df_corr = df_corr[df_corr['tempo_entrega_transportadora']>0]\n",
    "\n",
    "df_corr.describe()"
   ]
  },
  {
   "cell_type": "code",
   "execution_count": 21,
   "metadata": {},
   "outputs": [],
   "source": [
    "# Separando dados aleatoriamente entre vetores de treino e teste\n",
    "msk = np.random.rand(len(df_corr)) < 0.8\n",
    "treino = df_corr[msk]\n",
    "teste = df_corr[~msk]\n",
    "\n",
    "X_treino = np.asanyarray(treino[['customer_zip_code_prefix', 'review_score', 'delivery_time_model', 'tempo_entrega_transportadora', 'tempo_entrega_cliente']])\n",
    "y_treino = np.asanyarray(treino[['delivery_time']])\n",
    "X_teste = np.asanyarray(teste[['customer_zip_code_prefix', 'review_score', 'delivery_time_model', 'tempo_entrega_transportadora', 'tempo_entrega_cliente']].values)\n",
    "y_teste = np.asanyarray(teste[['delivery_time']].values)"
   ]
  },
  {
   "cell_type": "code",
   "execution_count": 22,
   "metadata": {},
   "outputs": [
    {
     "name": "stdout",
     "output_type": "stream",
     "text": [
      "Coeficientes:  [[-8.48478307e-06 -3.61394368e-02 -1.50328676e-02  8.74826980e-01\n",
      "   9.08256932e-01]]\n"
     ]
    }
   ],
   "source": [
    "from sklearn import linear_model\n",
    "\n",
    "regr = linear_model.LinearRegression()\n",
    "\n",
    "regr.fit (X_treino, y_treino)\n",
    "\n",
    "print('Coeficientes: ', regr.coef_)"
   ]
  },
  {
   "cell_type": "code",
   "execution_count": 24,
   "metadata": {},
   "outputs": [
    {
     "name": "stdout",
     "output_type": "stream",
     "text": [
      "Residual sum of squares: 9.48\n",
      "Variance score: 0.89\n"
     ]
    }
   ],
   "source": [
    "y_hat = regr.predict(teste[['customer_zip_code_prefix', 'review_score', 'delivery_time_model', 'tempo_entrega_transportadora', 'tempo_entrega_cliente']].values)\n",
    "\n",
    "print(\"Residual sum of squares: %.2f\" % np.mean((y_hat - y_teste) ** 2))\n",
    "print('Variance score: %.2f' % regr.score(X_teste, y_teste))\n"
   ]
  }
 ],
 "metadata": {
  "kernelspec": {
   "display_name": "Python 3",
   "language": "python",
   "name": "python3"
  },
  "language_info": {
   "codemirror_mode": {
    "name": "ipython",
    "version": 3
   },
   "file_extension": ".py",
   "mimetype": "text/x-python",
   "name": "python",
   "nbconvert_exporter": "python",
   "pygments_lexer": "ipython3",
   "version": "3.12.4"
  }
 },
 "nbformat": 4,
 "nbformat_minor": 2
}
